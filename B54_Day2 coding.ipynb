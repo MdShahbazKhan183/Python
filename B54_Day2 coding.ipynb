{
 "cells": [
  {
   "cell_type": "code",
   "execution_count": 1,
   "id": "517dec46",
   "metadata": {},
   "outputs": [
    {
     "name": "stdout",
     "output_type": "stream",
     "text": [
      "Md Shahbaz Khan\n"
     ]
    }
   ],
   "source": [
    "print(\"Md Shahbaz Khan\")"
   ]
  },
  {
   "cell_type": "code",
   "execution_count": null,
   "id": "e9b7d817",
   "metadata": {},
   "outputs": [],
   "source": [
    "variable rule\n",
    "\n",
    "1. A variable name should be not contains any space in it.\n",
    "2.A variable name should no be start with a number\n",
    "3.A variable name sould not contains any special character\n",
    "\n",
    "Below are the exampls"
   ]
  },
  {
   "cell_type": "code",
   "execution_count": 5,
   "id": "9cc5c779",
   "metadata": {},
   "outputs": [
    {
     "ename": "SyntaxError",
     "evalue": "invalid syntax (<ipython-input-5-541a85208f5f>, line 1)",
     "output_type": "error",
     "traceback": [
      "\u001b[1;36m  File \u001b[1;32m\"<ipython-input-5-541a85208f5f>\"\u001b[1;36m, line \u001b[1;32m1\u001b[0m\n\u001b[1;33m    First name ='shahbaz'\u001b[0m\n\u001b[1;37m          ^\u001b[0m\n\u001b[1;31mSyntaxError\u001b[0m\u001b[1;31m:\u001b[0m invalid syntax\n"
     ]
    }
   ],
   "source": [
    "First name ='shahbaz'\n",
    "print(First name)"
   ]
  },
  {
   "cell_type": "code",
   "execution_count": 6,
   "id": "43ee1631",
   "metadata": {},
   "outputs": [
    {
     "ename": "SyntaxError",
     "evalue": "invalid syntax (<ipython-input-6-663194a5dd42>, line 1)",
     "output_type": "error",
     "traceback": [
      "\u001b[1;36m  File \u001b[1;32m\"<ipython-input-6-663194a5dd42>\"\u001b[1;36m, line \u001b[1;32m1\u001b[0m\n\u001b[1;33m    1name ='shahbaz'\u001b[0m\n\u001b[1;37m     ^\u001b[0m\n\u001b[1;31mSyntaxError\u001b[0m\u001b[1;31m:\u001b[0m invalid syntax\n"
     ]
    }
   ],
   "source": [
    "1name ='shahbaz'\n",
    "print(1name)"
   ]
  },
  {
   "cell_type": "code",
   "execution_count": 7,
   "id": "f36c470a",
   "metadata": {},
   "outputs": [
    {
     "ename": "SyntaxError",
     "evalue": "invalid syntax (<ipython-input-7-2edd1466ea7c>, line 2)",
     "output_type": "error",
     "traceback": [
      "\u001b[1;36m  File \u001b[1;32m\"<ipython-input-7-2edd1466ea7c>\"\u001b[1;36m, line \u001b[1;32m2\u001b[0m\n\u001b[1;33m    print(%^%)\u001b[0m\n\u001b[1;37m          ^\u001b[0m\n\u001b[1;31mSyntaxError\u001b[0m\u001b[1;31m:\u001b[0m invalid syntax\n"
     ]
    }
   ],
   "source": [
    "%^% ='shahbaz'\n",
    "print(%^%)"
   ]
  },
  {
   "cell_type": "code",
   "execution_count": null,
   "id": "a7a00938",
   "metadata": {},
   "outputs": [],
   "source": [
    "Data type\n",
    "\n",
    "1. String ==str\n",
    "2.numbers ==> integer(int) and float (float)\n",
    "3.List ==list\n",
    "4.tuple== tuple\n",
    "5.Dictionary == dict"
   ]
  },
  {
   "cell_type": "code",
   "execution_count": null,
   "id": "4129c4a3",
   "metadata": {},
   "outputs": [],
   "source": []
  },
  {
   "cell_type": "code",
   "execution_count": null,
   "id": "40350118",
   "metadata": {},
   "outputs": [],
   "source": [
    "Classification of data type\n",
    "\n",
    "1. Mutable --> Which can be edit or alter -->these are flexable in nature.\n",
    "2. Immutable --> Which can not edit or alter -->these are fixed in nature"
   ]
  },
  {
   "cell_type": "code",
   "execution_count": null,
   "id": "f177527e",
   "metadata": {},
   "outputs": [],
   "source": []
  },
  {
   "cell_type": "code",
   "execution_count": null,
   "id": "d3b2b49c",
   "metadata": {},
   "outputs": [],
   "source": [
    "Intoduction to string datatype\n",
    "\n",
    "Defintion : Astring is a series of characters decleared in quotes\n",
    "    \n",
    "    \n",
    "    Classifications: It is classified as in immutable datatype\n",
    "        \n",
    "        \n",
    "        Decleared:\n",
    "            1. Single quotes ---> name1 ='shahbaz'\n",
    "            2. double quotes ---> name2 =\"shahbaz\"\n",
    "            3. triple quotes ---> name3 =\"\"\"\"shahbaz\"\"\""
   ]
  },
  {
   "cell_type": "code",
   "execution_count": null,
   "id": "dbf6a297",
   "metadata": {},
   "outputs": [],
   "source": []
  },
  {
   "cell_type": "code",
   "execution_count": null,
   "id": "8c27278c",
   "metadata": {},
   "outputs": [],
   "source": [
    "# is a symbol to commenting the code"
   ]
  },
  {
   "cell_type": "code",
   "execution_count": null,
   "id": "d5e620ca",
   "metadata": {},
   "outputs": [],
   "source": []
  },
  {
   "cell_type": "code",
   "execution_count": null,
   "id": "d17cf83f",
   "metadata": {},
   "outputs": [],
   "source": [
    "Introducation to string method\n",
    "\n",
    "It is used to validate the datatype\n",
    "\n",
    "like"
   ]
  },
  {
   "cell_type": "code",
   "execution_count": 10,
   "id": "55876ea9",
   "metadata": {},
   "outputs": [
    {
     "name": "stdout",
     "output_type": "stream",
     "text": [
      "shahbaz\n"
     ]
    }
   ],
   "source": [
    "name_1 ='shahbaz'\n",
    "\n",
    "print(name_1)"
   ]
  },
  {
   "cell_type": "code",
   "execution_count": 11,
   "id": "d7b0da18",
   "metadata": {},
   "outputs": [
    {
     "data": {
      "text/plain": [
       "str"
      ]
     },
     "execution_count": 11,
     "metadata": {},
     "output_type": "execute_result"
    }
   ],
   "source": [
    "type(name_1)"
   ]
  },
  {
   "cell_type": "code",
   "execution_count": null,
   "id": "f474250f",
   "metadata": {},
   "outputs": [],
   "source": []
  }
 ],
 "metadata": {
  "kernelspec": {
   "display_name": "Python 3",
   "language": "python",
   "name": "python3"
  },
  "language_info": {
   "codemirror_mode": {
    "name": "ipython",
    "version": 3
   },
   "file_extension": ".py",
   "mimetype": "text/x-python",
   "name": "python",
   "nbconvert_exporter": "python",
   "pygments_lexer": "ipython3",
   "version": "3.8.8"
  }
 },
 "nbformat": 4,
 "nbformat_minor": 5
}
